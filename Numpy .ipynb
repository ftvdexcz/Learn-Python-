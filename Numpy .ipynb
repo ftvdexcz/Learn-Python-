{
 "cells": [
  {
   "cell_type": "markdown",
   "id": "117ac3d0",
   "metadata": {},
   "source": [
    "# Numpy"
   ]
  },
  {
   "cell_type": "markdown",
   "id": "4b09fc61",
   "metadata": {},
   "source": [
    "## Creating Array"
   ]
  },
  {
   "cell_type": "code",
   "execution_count": 58,
   "id": "c7ed4d3c",
   "metadata": {},
   "outputs": [
    {
     "name": "stdout",
     "output_type": "stream",
     "text": [
      "[1 2 3 4 5]\n",
      "<class 'numpy.ndarray'>\n",
      "(5,)\n",
      "2\n",
      "7\n",
      "[[1 2 3]\n",
      " [4 5 6]]\n",
      "(2, 3)\n",
      "1\n",
      "6\n"
     ]
    }
   ],
   "source": [
    "# thêm thư viện numpy\n",
    "import numpy as np \n",
    "# tạo mảng 1 chiều từ 1 list\n",
    "a = np.array([1,2,3,4,5])\n",
    "\n",
    "print(a) #[1 2 3 4 5]\n",
    "print(type(a)) #ndarray\n",
    "print(a.shape) #5,\n",
    "\n",
    "# index \n",
    "print(a[1]) #2\n",
    "a[1] = 7 #thay đổi giá trị \n",
    "print(a[1]) #7\n",
    "\n",
    "# tạo mảng 2 chiều \n",
    "b = np.array([[1,2,3], [4,5,6]])\n",
    "print(b) #[[1,2,3]\n",
    "         # [4,5,6]]\n",
    "print(b.shape) #(2,4) 2 dòng 4 cột\n",
    "\n",
    "# index \n",
    "print(b[0][0]) #1\n",
    "print(b[1][2]) #6"
   ]
  },
  {
   "cell_type": "code",
   "execution_count": 69,
   "id": "f08eb2db",
   "metadata": {},
   "outputs": [
    {
     "name": "stdout",
     "output_type": "stream",
     "text": [
      "[0 1 2 3 4 5 6 7]\n",
      "[[0 1 2 3]\n",
      " [4 5 6 7]]\n",
      "[0 1 2 3 4 5 6 7]\n",
      "[1 2 3 4 5 6 7 8]\n",
      "[[[1 2]\n",
      "  [3 4]]\n",
      "\n",
      " [[5 6]\n",
      "  [7 8]]]\n",
      "[[0. 0. 0. 0.]\n",
      " [0. 0. 0. 0.]]\n",
      "[[1. 1. 1. 1.]\n",
      " [1. 1. 1. 1.]]\n",
      "[[0.62749682 0.82579189]\n",
      " [0.85709415 0.92476526]]\n",
      "[[1. 0.]\n",
      " [0. 1.]]\n",
      "[[5 5]\n",
      " [5 5]]\n"
     ]
    }
   ],
   "source": [
    "# Một số hàm tạo mảng\n",
    "a = np.arange(8) # tạo mảng 1 chiều từ 0->7\n",
    "print(a)\n",
    "\n",
    "newa = a.reshape(2,4) # newa thành mảng 2 chiều 2 dòng 4 cột, giữ nguyên a\n",
    "print(newa)\n",
    "print(a)\n",
    "\n",
    "b = np.array([[1,2,3,4],[5,6,7,8]]) #reshape 2-D to 1-D\n",
    "newb = b.reshape(-1)\n",
    "print(newb) #[1 2 3 4 5 6 7 8]\n",
    "\n",
    "#unknown dimesion \n",
    "b = np.array([1,2,3,4,5,6,7,8]) \n",
    "newb = b.reshape(2,2,-1) #thêm -1: chương trình tự tính toán chiều sao cho ma trận gồm các ma trận 2x2\n",
    "print(newb) #1-D to 3-D\n",
    "#[[[1 2]\n",
    "#  [3 4]]\n",
    "\n",
    "# [[5 6]\n",
    "#  [7 8]]]\n",
    "\n",
    "\n",
    "a = np.zeros((2,4)) # tạo mảng 2 chiều 2 dòng 4 cột các phần tử 0\n",
    "print(a)\n",
    "\n",
    "a = np.ones((2,4)) # tạo mảng 2 chiều 2 dòng 4 cột các phần tử 1\n",
    "print(a)\n",
    "\n",
    "a = np.random.random((2,2)) # tạo mảng 2 chiều 2 dòng 2 cột các phần tử bất kì \n",
    "print(a)\n",
    "\n",
    "a = np.eye(2) # tạo ma trận đơn vị vuông cấp 2\n",
    "print(a)\n",
    "\n",
    "a = np.full((2,2), 5) # tạo mảng 2 chiều 2 dòng 2 cột các phần tử bằng 5\n",
    "print(a)"
   ]
  },
  {
   "cell_type": "markdown",
   "id": "ea109312",
   "metadata": {},
   "source": [
    "## Array Indexing"
   ]
  },
  {
   "cell_type": "code",
   "execution_count": 43,
   "id": "cbda1356",
   "metadata": {},
   "outputs": [
    {
     "name": "stdout",
     "output_type": "stream",
     "text": [
      "[2, 4, 6]\n",
      "[8, 9]\n",
      "3\n",
      "[[1 2]\n",
      " [5 6]]\n",
      "2\n",
      "3\n",
      "[[1 3]\n",
      " [5 6]]\n"
     ]
    }
   ],
   "source": [
    "# truy cập bằng slicing array\n",
    "c = [1,2,3,4,5,6,7,8,9,10] # mảng 1 chiều \n",
    "print(c[1:7:2]) #start = 1, end = 7, step = 2\n",
    "print(c[-3:-1])\n",
    "\n",
    "# Create the following rank 2 array with shape (3, 4)\n",
    "# [[ 1  2  3  4]\n",
    "#  [ 5  6  7  8]\n",
    "#  [ 9 10 11 12]]\n",
    "a = np.array([[1,2,3,4], [5,6,7,8], [9,10,11,12]])\n",
    "\n",
    "print(a[0][2]) #3\n",
    "b = a[:2, :2]\n",
    "print(b) # [[1 2]\n",
    "         #  [5 6]]\n",
    "\n",
    "# khi sử dụng slicing array b là 1 chế độ xem của a nên chỉnh sửa b cũng làm thay đổi a\n",
    "print(a[0][1]) #2\n",
    "b[0][1] = 3 # => a[0][1] = 3\n",
    "print(a[0][1]) #3\n",
    "print(a[:2, :2]) #[[1 3]\n",
    "                 # [5 6]]"
   ]
  },
  {
   "cell_type": "code",
   "execution_count": 36,
   "id": "cf5bf25f",
   "metadata": {},
   "outputs": [
    {
     "name": "stdout",
     "output_type": "stream",
     "text": [
      "[[2 3 4]]\n",
      "(1, 3)\n",
      "[2 3 4]\n",
      "(3,)\n"
     ]
    }
   ],
   "source": [
    "# Create the following rank 2 array with shape (3, 4)\n",
    "# [[ 1  2  3  4]\n",
    "#  [ 5  6  7  8]\n",
    "#  [ 9 10 11 12]]\n",
    "a = np.array([[1,2,3,4], [5,6,7,8], [9,10,11,12]])\n",
    "\n",
    "# 2 cách truy cập dữ liệu mảng \n",
    "row_r1 = a[:1,1:4] \n",
    "print(row_r1) # [[2 3 4]]\n",
    "print(row_r1.shape) # (1,3) => giữ nguyên chiều của mảng ban đầu\n",
    "\n",
    "row_r2 = a[0,1:4]\n",
    "print(row_r2) #[2 3 4]\n",
    "print(row_r2.shape) #(3,) => chiều giảm 1 so với mảng ban đầu \n",
    "\n",
    "# ==>> nếu ở cả hai đều sử dụng slicing thì chiều giữ nguyên, kiểu số với slicing sẽ giảm chiều đi 1  "
   ]
  },
  {
   "cell_type": "code",
   "execution_count": 46,
   "id": "b2112044",
   "metadata": {},
   "outputs": [
    {
     "name": "stdout",
     "output_type": "stream",
     "text": [
      "[1 4 5]\n",
      "[1 4 5]\n",
      "[2 2]\n",
      "[2 2]\n"
     ]
    }
   ],
   "source": [
    "a = np.array([[1,2], [3, 4], [5, 6]])\n",
    "\n",
    "# An example of integer array indexing.\n",
    "# The returned array will have shape (3,) and\n",
    "print(a[[0, 1, 2], [0, 1, 0]])  # Prints \"[1 4 5]\"\n",
    "\n",
    "# The above example of integer array indexing is equivalent to this:\n",
    "print(np.array([a[0, 0], a[1, 1], a[2, 0]]))  # Prints \"[1 4 5]\"\n",
    "\n",
    "# When using integer array indexing, you can reuse the same\n",
    "# element from the source array:\n",
    "print(a[[0, 0], [1, 1]])  # Prints \"[2 2]\"\n",
    "\n",
    "# Equivalent to the previous integer array indexing example\n",
    "print(np.array([a[0, 1], a[0, 1]]))  # Prints \"[2 2]\""
   ]
  },
  {
   "cell_type": "code",
   "execution_count": 55,
   "id": "35038e3b",
   "metadata": {},
   "outputs": [
    {
     "name": "stdout",
     "output_type": "stream",
     "text": [
      "[[ 1  2  3]\n",
      " [ 4  5  6]\n",
      " [ 7  8  9]\n",
      " [10 11 12]]\n",
      "[ 1  6  7 11]\n",
      "[[11  2  3]\n",
      " [ 4  5 16]\n",
      " [17  8  9]\n",
      " [10 21 12]]\n",
      "[1 2]\n",
      "[6 7]\n"
     ]
    }
   ],
   "source": [
    "# Create a new array from which we will select elements\n",
    "a = np.array([[1,2,3], [4,5,6], [7,8,9], [10, 11, 12]])\n",
    "\n",
    "print(a)  # prints \"array([[ 1,  2,  3],\n",
    "          #                [ 4,  5,  6],\n",
    "          #                [ 7,  8,  9],\n",
    "          #                [10, 11, 12]])\"\n",
    "\n",
    "# Create an array of indices\n",
    "b = np.array([0, 2, 0, 1])\n",
    "\n",
    "# Select one element from each row of a using the indices in b\n",
    "print(a[np.arange(4), b])  # Prints \"[ 1  6  7 11]\"\n",
    "\n",
    "# Mutate one element from each row of a using the indices in b\n",
    "a[np.arange(4), b] += 10\n",
    "\n",
    "print(a)  # prints \"array([[11,  2,  3],\n",
    "          #                [ 4,  5, 16],\n",
    "          #                [17,  8,  9],\n",
    "          #                [10, 21, 12]])\n",
    "            \n",
    "b = np.array([1,2,3,4])\n",
    "print(b[[0, 1]]) #[1 2]\n",
    "b[[0,1]] += 5\n",
    "print(b[[0 ,1]]) #[6 7]"
   ]
  },
  {
   "cell_type": "code",
   "execution_count": null,
   "id": "b923b64a",
   "metadata": {},
   "outputs": [],
   "source": [
    "a = np.array([[1,2], [3, 4], [5, 6]])\n",
    "\n",
    "bool_idx = (a > 2)   # Find the elements of a that are bigger than 2;\n",
    "                     # this returns a numpy array of Booleans of the same\n",
    "                     # shape as a, where each slot of bool_idx tells\n",
    "                     # whether that element of a is > 2.\n",
    "\n",
    "print(bool_idx)      # Prints \"[[False False]\n",
    "                     #          [ True  True]\n",
    "                     #          [ True  True]]\"\n",
    "\n",
    "# We use boolean array indexing to construct a rank 1 array\n",
    "# consisting of the elements of a corresponding to the True values\n",
    "# of bool_idx\n",
    "print(a[bool_idx])  # Prints \"[3 4 5 6]\"\n",
    "\n",
    "# We can do all of the above in a single concise statement:\n",
    "print(a[a > 2])     # Prints \"[3 4 5 6]\""
   ]
  },
  {
   "cell_type": "markdown",
   "id": "9ff5a84e",
   "metadata": {},
   "source": [
    "## Data Types"
   ]
  },
  {
   "cell_type": "code",
   "execution_count": 59,
   "id": "78262ef8",
   "metadata": {},
   "outputs": [
    {
     "name": "stdout",
     "output_type": "stream",
     "text": [
      "int32\n",
      "float64\n",
      "int64\n"
     ]
    }
   ],
   "source": [
    "x = np.array([1, 2])   # Let numpy choose the datatype\n",
    "print(x.dtype)         # Prints \"int64\"\n",
    "\n",
    "x = np.array([1.0, 2.0])   # Let numpy choose the datatype\n",
    "print(x.dtype)             # Prints \"float64\"\n",
    "\n",
    "x = np.array([1, 2], dtype=np.int64)   # Force a particular datatype\n",
    "print(x.dtype)                         # Prints \"int64\""
   ]
  },
  {
   "cell_type": "markdown",
   "id": "ec4c9e3c",
   "metadata": {},
   "source": [
    "## Copy and View"
   ]
  },
  {
   "cell_type": "code",
   "execution_count": 67,
   "id": "7d1a50c0",
   "metadata": {},
   "outputs": [
    {
     "name": "stdout",
     "output_type": "stream",
     "text": [
      "[1 2 3 4 5]\n",
      "[42  2  3  4  5]\n",
      "[42  2  3  4  5]\n",
      "[2 2 3 4 5]\n",
      "[43  2  3  4  5]\n",
      "[43  2  3  4  5]\n",
      "[1 2 3 4 5]\n",
      "[1 2 3 4 5]\n",
      "None\n",
      "[1 2 3 4 5]\n"
     ]
    }
   ],
   "source": [
    "a = np.array([1,2,3,4,5])\n",
    "\n",
    "#copy() tạo ra mảng mới với các giá trị được sao chép từ mảng ban đầu\n",
    "x = a.copy()\n",
    "a[0] = 42 #thay đổi trong a không làm ảnh hưởng tới x và ngược lại\n",
    "print(x) #[1 2 3 4 5]\n",
    "print(a) #[42  2  3  4  5]\n",
    "x[0] = 2\n",
    "print(a) #[42  2  3  4  5]\n",
    "print(x) #[2 2 3 4 5]\n",
    "\n",
    "#view() chỉ là chế độ xem, thay đổi giá trị a làm thay đổi y và ngược lại thay đổi y làm thay đổi a\n",
    "y = a.view()\n",
    "a[0] = 43\n",
    "print(a) #[43  2  3  4  5]\n",
    "print(y) #[43  2  3  4  5]\n",
    "y[0] = 1\n",
    "print(a) #[1 2 3 4 5]\n",
    "print(y) #[1 2 3 4 5]\n",
    "\n",
    "#kiểm tra xem mảng chứa dữ liệu của nó (được copy sang) hay không (view). Nếu chứa dữ liệu của nó return None, không thì trả về mảng gốc\n",
    "print(x.base) #None vì chứa dữ liệu của nó \n",
    "print(y.base) #[1 2 3 4 5]"
   ]
  },
  {
   "cell_type": "markdown",
   "id": "4dde4630",
   "metadata": {},
   "source": [
    "## Array Math"
   ]
  },
  {
   "cell_type": "code",
   "execution_count": 70,
   "id": "e58818c9",
   "metadata": {},
   "outputs": [
    {
     "name": "stdout",
     "output_type": "stream",
     "text": [
      "[[ 6.  8.]\n",
      " [10. 12.]]\n",
      "[[ 6.  8.]\n",
      " [10. 12.]]\n",
      "[[-4. -4.]\n",
      " [-4. -4.]]\n",
      "[[-4. -4.]\n",
      " [-4. -4.]]\n",
      "[[ 5. 12.]\n",
      " [21. 32.]]\n",
      "[[ 5. 12.]\n",
      " [21. 32.]]\n",
      "[[0.2        0.33333333]\n",
      " [0.42857143 0.5       ]]\n",
      "[[0.2        0.33333333]\n",
      " [0.42857143 0.5       ]]\n",
      "[[1.         1.41421356]\n",
      " [1.73205081 2.        ]]\n"
     ]
    }
   ],
   "source": [
    "x = np.array([[1,2],[3,4]], dtype=np.float64)\n",
    "y = np.array([[5,6],[7,8]], dtype=np.float64)\n",
    "\n",
    "# Elementwise sum; both produce the array\n",
    "# [[ 6.0  8.0]\n",
    "#  [10.0 12.0]]\n",
    "print(x + y)\n",
    "print(np.add(x, y))\n",
    "\n",
    "# Elementwise difference; both produce the array\n",
    "# [[-4.0 -4.0]\n",
    "#  [-4.0 -4.0]]\n",
    "print(x - y)\n",
    "print(np.subtract(x, y))\n",
    "\n",
    "# Elementwise product; both produce the array\n",
    "# [[ 5.0 12.0]\n",
    "#  [21.0 32.0]]\n",
    "print(x * y)\n",
    "print(np.multiply(x, y))\n",
    "\n",
    "# Elementwise division; both produce the array\n",
    "# [[ 0.2         0.33333333]\n",
    "#  [ 0.42857143  0.5       ]]\n",
    "print(x / y)\n",
    "print(np.divide(x, y))\n",
    "\n",
    "# Elementwise square root; produces the array\n",
    "# [[ 1.          1.41421356]\n",
    "#  [ 1.73205081  2.        ]]\n",
    "print(np.sqrt(x))"
   ]
  },
  {
   "cell_type": "code",
   "execution_count": 71,
   "id": "191e5963",
   "metadata": {},
   "outputs": [
    {
     "name": "stdout",
     "output_type": "stream",
     "text": [
      "219\n",
      "219\n",
      "[29 67]\n",
      "[29 67]\n",
      "[[19 22]\n",
      " [43 50]]\n",
      "[[19 22]\n",
      " [43 50]]\n"
     ]
    }
   ],
   "source": [
    "x = np.array([[1,2],[3,4]])\n",
    "y = np.array([[5,6],[7,8]])\n",
    "\n",
    "v = np.array([9,10])\n",
    "w = np.array([11, 12])\n",
    "\n",
    "# Inner product of vectors; both produce 219\n",
    "print(v.dot(w))\n",
    "print(np.dot(v, w))\n",
    "\n",
    "# Matrix / vector product; both produce the rank 1 array [29 67]\n",
    "print(x.dot(v))\n",
    "print(np.dot(x, v))\n",
    "\n",
    "# Matrix / matrix product; both produce the rank 2 array\n",
    "# [[19 22]\n",
    "#  [43 50]]\n",
    "print(x.dot(y))\n",
    "print(np.dot(x, y))"
   ]
  },
  {
   "cell_type": "code",
   "execution_count": 72,
   "id": "51451ae3",
   "metadata": {},
   "outputs": [
    {
     "name": "stdout",
     "output_type": "stream",
     "text": [
      "10\n",
      "[4 6]\n",
      "[3 7]\n"
     ]
    }
   ],
   "source": [
    "x = np.array([[1,2],[3,4]])\n",
    "\n",
    "print(np.sum(x))  # Compute sum of all elements; prints \"10\"\n",
    "print(np.sum(x, axis=0))  # Compute sum of each column; prints \"[4 6]\"\n",
    "print(np.sum(x, axis=1))  # Compute sum of each row; prints \"[3 7]\""
   ]
  },
  {
   "cell_type": "code",
   "execution_count": 73,
   "id": "acd95e33",
   "metadata": {},
   "outputs": [
    {
     "name": "stdout",
     "output_type": "stream",
     "text": [
      "[[1 2]\n",
      " [3 4]]\n",
      "[[1 3]\n",
      " [2 4]]\n",
      "[1 2 3]\n",
      "[1 2 3]\n"
     ]
    }
   ],
   "source": [
    "# ma trận chuyển vị\n",
    "x = np.array([[1,2], [3,4]])\n",
    "print(x)    # Prints \"[[1 2]\n",
    "            #          [3 4]]\"\n",
    "print(x.T)  # Prints \"[[1 3]\n",
    "            #          [2 4]]\"\n",
    "\n",
    "# Note that taking the transpose of a rank 1 array does nothing:\n",
    "v = np.array([1,2,3])\n",
    "print(v)    # Prints \"[1 2 3]\"\n",
    "print(v.T)  # Prints \"[1 2 3]\""
   ]
  },
  {
   "cell_type": "markdown",
   "id": "0e5cb67b",
   "metadata": {},
   "source": [
    "## Broadcasting"
   ]
  },
  {
   "cell_type": "markdown",
   "id": "3faa882f",
   "metadata": {},
   "source": [
    "Broadcasting là một cơ chế mạnh mẽ cho phép numpy hoạt động với các mảng có hình dạng khác nhau khi thực hiện các phép toán số học. Chúng ta thường có một mảng nhỏ hơn và một mảng lớn hơn và chúng ta muốn sử dụng mảng nhỏ hơn nhiều lần để thực hiện một số thao tác trên mảng lớn hơn.\n",
    "\n",
    "Ví dụ: giả sử rằng chúng ta muốn cộng một vectơ không đổi vào mỗi hàng của ma trận. Chúng ta có thể làm như thế này:"
   ]
  },
  {
   "cell_type": "code",
   "execution_count": 74,
   "id": "346a8ff4",
   "metadata": {},
   "outputs": [
    {
     "name": "stdout",
     "output_type": "stream",
     "text": [
      "[[ 2  2  4]\n",
      " [ 5  5  7]\n",
      " [ 8  8 10]\n",
      " [11 11 13]]\n"
     ]
    }
   ],
   "source": [
    "# We will add the vector v to each row of the matrix x,\n",
    "# storing the result in the matrix y\n",
    "x = np.array([[1,2,3], [4,5,6], [7,8,9], [10, 11, 12]])\n",
    "v = np.array([1, 0, 1])\n",
    "y = np.empty_like(x)   # Create an empty matrix with the same shape as x\n",
    "\n",
    "# Add the vector v to each row of the matrix x with an explicit loop\n",
    "for i in range(4):\n",
    "    y[i, :] = x[i, :] + v\n",
    "\n",
    "# Now y is the following\n",
    "# [[ 2  2  4]\n",
    "#  [ 5  5  7]\n",
    "#  [ 8  8 10]\n",
    "#  [11 11 13]]\n",
    "print(y)"
   ]
  },
  {
   "cell_type": "markdown",
   "id": "83a0b9ce",
   "metadata": {},
   "source": [
    "Khi ma trận x rất lớn, việc tính toán một vòng lặp rõ ràng trong Python có thể bị chậm. Lưu ý rằng cộng thêm vectơ v vào mỗi hàng của ma trận x tương đương với việc hình thành ma trận vv bằng cách xếp chồng nhiều bản sao của v theo chiều dọc, sau đó thực hiện phép tính tổng của x và vv. Chúng ta có thể thực hiện phương pháp này như thế này:"
   ]
  },
  {
   "cell_type": "code",
   "execution_count": 77,
   "id": "af81a09c",
   "metadata": {},
   "outputs": [
    {
     "name": "stdout",
     "output_type": "stream",
     "text": [
      "[[1 0 1]\n",
      " [1 0 1]\n",
      " [1 0 1]\n",
      " [1 0 1]]\n",
      "[[ 2  2  4]\n",
      " [ 5  5  7]\n",
      " [ 8  8 10]\n",
      " [11 11 13]]\n"
     ]
    }
   ],
   "source": [
    "# We will add the vector v to each row of the matrix x,\n",
    "# storing the result in the matrix y\n",
    "x = np.array([[1,2,3], [4,5,6], [7,8,9], [10, 11, 12]])\n",
    "v = np.array([1, 0, 1])\n",
    "vv = np.tile(v, (4, 1))   # Stack 4 copies of v on top of each other\n",
    "print(vv)                 # Prints \"[[1 0 1]\n",
    "                          #          [1 0 1]\n",
    "                          #          [1 0 1]\n",
    "                          #          [1 0 1]]\"\n",
    "y = x + vv  # Add x and vv elementwise\n",
    "print(y)  # Prints \"[[ 2  2  4\n",
    "          #          [ 5  5  7]\n",
    "          #          [ 8  8 10]\n",
    "          #          [11 11 13]]\""
   ]
  },
  {
   "cell_type": "code",
   "execution_count": 78,
   "id": "0d6ca7e1",
   "metadata": {},
   "outputs": [
    {
     "name": "stdout",
     "output_type": "stream",
     "text": [
      "[[ 2  2  4]\n",
      " [ 5  5  7]\n",
      " [ 8  8 10]\n",
      " [11 11 13]]\n"
     ]
    }
   ],
   "source": [
    "# We will add the vector v to each row of the matrix x,\n",
    "# storing the result in the matrix y\n",
    "x = np.array([[1,2,3], [4,5,6], [7,8,9], [10, 11, 12]])\n",
    "v = np.array([1, 0, 1])\n",
    "y = x + v  # Add v to each row of x using broadcasting\n",
    "print(y)  # Prints \"[[ 2  2  4]\n",
    "          #          [ 5  5  7]\n",
    "          #          [ 8  8 10]\n",
    "          #          [11 11 13]]\""
   ]
  },
  {
   "cell_type": "markdown",
   "id": "82a8eb03",
   "metadata": {},
   "source": [
    "\n",
    "Numpy broadcasting cho phép chúng tôi thực hiện tính toán này mà không thực sự tạo ra nhiều bản sao của v. Hãy xem xét cách làm này, sử dụng broadcasting:\n",
    "\n",
    "Dòng y = x + v hoạt động ngay cả khi x có shape (4, 3) và v có shape (3,), do broadcasting dòng này hoạt động như thể v thực sự có hình dạng (4, 3), trong đó mỗi hàng là một bản sao của v và tổng được thực hiện theo từng phần tử.\n",
    "\n",
    "Broadcasting hai mảng với nhau theo các quy tắc sau (Mình xin phép không dịch):\n",
    "\n",
    "If the arrays do not have the same rank, prepend the shape of the lower rank array with 1s until both shapes have the same length.\n",
    "The two arrays are said to be compatible in a dimension if they have the same size in the dimension, or if one of the arrays has size 1 in that dimension.\n",
    "The arrays can be broadcast together if they are compatible in all dimensions.\n",
    "After broadcasting, each array behaves as if it had shape equal to the elementwise maximum of shapes of the two input arrays.\n",
    "In any dimension where one array had size 1 and the other array had size greater than 1, the first array behaves as if it were copied along that dimension."
   ]
  },
  {
   "cell_type": "code",
   "execution_count": 79,
   "id": "db0875b4",
   "metadata": {},
   "outputs": [
    {
     "name": "stdout",
     "output_type": "stream",
     "text": [
      "[[ 4  5]\n",
      " [ 8 10]\n",
      " [12 15]]\n",
      "[[2 4 6]\n",
      " [5 7 9]]\n",
      "[[ 5  6  7]\n",
      " [ 9 10 11]]\n",
      "[[ 5  6  7]\n",
      " [ 9 10 11]]\n",
      "[[ 2  4  6]\n",
      " [ 8 10 12]]\n"
     ]
    }
   ],
   "source": [
    "# Compute outer product of vectors\n",
    "v = np.array([1,2,3])  # v has shape (3,)\n",
    "w = np.array([4,5])    # w has shape (2,)\n",
    "# To compute an outer product, we first reshape v to be a column\n",
    "# vector of shape (3, 1); we can then broadcast it against w to yield\n",
    "# an output of shape (3, 2), which is the outer product of v and w:\n",
    "# [[ 4  5]\n",
    "#  [ 8 10]\n",
    "#  [12 15]]\n",
    "print(np.reshape(v, (3, 1)) * w)\n",
    "\n",
    "# Add a vector to each row of a matrix\n",
    "x = np.array([[1,2,3], [4,5,6]])\n",
    "# x has shape (2, 3) and v has shape (3,) so they broadcast to (2, 3),\n",
    "# giving the following matrix:\n",
    "# [[2 4 6]\n",
    "#  [5 7 9]]\n",
    "print(x + v)\n",
    "\n",
    "# Add a vector to each column of a matrix\n",
    "# x has shape (2, 3) and w has shape (2,).\n",
    "# If we transpose x then it has shape (3, 2) and can be broadcast\n",
    "# against w to yield a result of shape (3, 2); transposing this result\n",
    "# yields the final result of shape (2, 3) which is the matrix x with\n",
    "# the vector w added to each column. Gives the following matrix:\n",
    "# [[ 5  6  7]\n",
    "#  [ 9 10 11]]\n",
    "print((x.T + w).T)\n",
    "# Another solution is to reshape w to be a column vector of shape (2, 1);\n",
    "# we can then broadcast it directly against x to produce the same\n",
    "# output.\n",
    "print(x + np.reshape(w, (2, 1)))\n",
    "\n",
    "# Multiply a matrix by a constant:\n",
    "# x has shape (2, 3). Numpy treats scalars as arrays of shape ();\n",
    "# these can be broadcast together to shape (2, 3), producing the\n",
    "# following array:\n",
    "# [[ 2  4  6]\n",
    "#  [ 8 10 12]]\n",
    "print(x * 2)"
   ]
  },
  {
   "cell_type": "code",
   "execution_count": null,
   "id": "576c56b9",
   "metadata": {},
   "outputs": [],
   "source": []
  }
 ],
 "metadata": {
  "kernelspec": {
   "display_name": "Python 3",
   "language": "python",
   "name": "python3"
  },
  "language_info": {
   "codemirror_mode": {
    "name": "ipython",
    "version": 3
   },
   "file_extension": ".py",
   "mimetype": "text/x-python",
   "name": "python",
   "nbconvert_exporter": "python",
   "pygments_lexer": "ipython3",
   "version": "3.9.4"
  }
 },
 "nbformat": 4,
 "nbformat_minor": 5
}
