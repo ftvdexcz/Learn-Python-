{
 "cells": [
  {
   "cell_type": "markdown",
   "id": "d880c615",
   "metadata": {},
   "source": [
    "## Intro "
   ]
  },
  {
   "cell_type": "code",
   "execution_count": 2,
   "id": "fc38ad5a",
   "metadata": {},
   "outputs": [
    {
     "name": "stdout",
     "output_type": "stream",
     "text": [
      "<class 'str'>\n"
     ]
    }
   ],
   "source": [
    "print(type(\"hello\"))"
   ]
  },
  {
   "cell_type": "code",
   "execution_count": 3,
   "id": "81f57090",
   "metadata": {},
   "outputs": [
    {
     "name": "stdout",
     "output_type": "stream",
     "text": [
      "<class 'function'>\n"
     ]
    }
   ],
   "source": [
    "def my_func():\n",
    "    print(\"OOP\")\n",
    "\n",
    "print(type(my_func))"
   ]
  },
  {
   "cell_type": "markdown",
   "id": "0ed2dec2",
   "metadata": {},
   "source": [
    "- Mọi thứ ta thao tác trong Python đều là đối tượng"
   ]
  },
  {
   "cell_type": "code",
   "execution_count": 54,
   "id": "d45111a6",
   "metadata": {},
   "outputs": [],
   "source": [
    "# make own class\n",
    "class Dog:\n",
    "    def __init__(self, name, age):\n",
    "        self.name = name \n",
    "        self.age = age\n",
    "    \n",
    "    def get_name(self):\n",
    "        return self.name\n",
    "    \n",
    "    def add(self, x):\n",
    "        return x+1\n",
    "    \n",
    "    def get_age(self):\n",
    "        return self.age\n",
    "    \n",
    "    def bark(self):\n",
    "        print(\"bark\")\n",
    "    \n",
    "    def set_age(self, age):\n",
    "        self.age = age"
   ]
  },
  {
   "cell_type": "code",
   "execution_count": 55,
   "id": "c5585c1d",
   "metadata": {},
   "outputs": [
    {
     "name": "stdout",
     "output_type": "stream",
     "text": [
      "<class '__main__.Dog'>\n"
     ]
    }
   ],
   "source": [
    "d = Dog(\"Tim\",12)\n",
    "print(type(d))"
   ]
  },
  {
   "cell_type": "code",
   "execution_count": 56,
   "id": "d978ce75",
   "metadata": {},
   "outputs": [
    {
     "name": "stdout",
     "output_type": "stream",
     "text": [
      "bark\n"
     ]
    }
   ],
   "source": [
    "d.bark()"
   ]
  },
  {
   "cell_type": "code",
   "execution_count": 57,
   "id": "071ae4a2",
   "metadata": {},
   "outputs": [
    {
     "name": "stdout",
     "output_type": "stream",
     "text": [
      "6\n"
     ]
    }
   ],
   "source": [
    "print(d.add(5))"
   ]
  },
  {
   "cell_type": "code",
   "execution_count": 58,
   "id": "2ff3ed7d",
   "metadata": {},
   "outputs": [
    {
     "name": "stdout",
     "output_type": "stream",
     "text": [
      "Tim\n",
      "Tim\n"
     ]
    }
   ],
   "source": [
    "# Same \n",
    "print(d.name)\n",
    "print(d.get_name()) "
   ]
  },
  {
   "cell_type": "code",
   "execution_count": 59,
   "id": "601b3d09",
   "metadata": {},
   "outputs": [],
   "source": [
    "d2 = Dog(\"Bill\", 10)"
   ]
  },
  {
   "cell_type": "code",
   "execution_count": 60,
   "id": "fcda594c",
   "metadata": {},
   "outputs": [
    {
     "name": "stdout",
     "output_type": "stream",
     "text": [
      "Bill\n",
      "Bill\n"
     ]
    }
   ],
   "source": [
    "print(d2.name)\n",
    "print(d2.get_name())"
   ]
  },
  {
   "cell_type": "code",
   "execution_count": 61,
   "id": "c48e507c",
   "metadata": {},
   "outputs": [
    {
     "name": "stdout",
     "output_type": "stream",
     "text": [
      "12 10\n"
     ]
    }
   ],
   "source": [
    "print(d.get_age(), d2.get_age())"
   ]
  },
  {
   "cell_type": "code",
   "execution_count": 62,
   "id": "91adf8ab",
   "metadata": {},
   "outputs": [
    {
     "name": "stdout",
     "output_type": "stream",
     "text": [
      "15\n"
     ]
    }
   ],
   "source": [
    "d.set_age(15)\n",
    "print(d.get_age())"
   ]
  },
  {
   "cell_type": "markdown",
   "id": "9f6963f9",
   "metadata": {},
   "source": [
    "## Example "
   ]
  },
  {
   "cell_type": "code",
   "execution_count": 88,
   "id": "4b9e3837",
   "metadata": {},
   "outputs": [],
   "source": [
    "# Create a student class \n",
    "class Student: \n",
    "    def __init__(self, name, age, grade):\n",
    "        self.name = name\n",
    "        self.age = age\n",
    "        self.grade = grade # 0-100\n",
    "        \n",
    "    def get_grade(self):\n",
    "        return self.grade \n",
    "    \n",
    "# Create a Course class\n",
    "class Course:\n",
    "    def __init__(self, name, max_students):\n",
    "        self.name = name\n",
    "        self.max_students = max_students \n",
    "        self.students = []\n",
    "        \n",
    "    def add_student(self, student):\n",
    "        if len(self.students) < self.max_students:\n",
    "            self.students.append(student)\n",
    "            return True\n",
    "        return False\n",
    "    \n",
    "    def get_average_grade(self):\n",
    "        Total = 0\n",
    "        for student in self.students:\n",
    "            Total += student.get_grade()\n",
    "        return Total/len(self.students)"
   ]
  },
  {
   "cell_type": "code",
   "execution_count": 89,
   "id": "39cb57ac",
   "metadata": {},
   "outputs": [],
   "source": [
    "# Create object \n",
    "s1 = Student(\"Tim\", 19, 95)\n",
    "s2 = Student(\"Bill\", 20, 98)\n",
    "s3 = Student(\"Jill\", 19, 23)\n",
    "\n",
    "course = Course(\"OOP Python\", 2)"
   ]
  },
  {
   "cell_type": "code",
   "execution_count": 90,
   "id": "f94c3bd2",
   "metadata": {},
   "outputs": [
    {
     "data": {
      "text/plain": [
       "True"
      ]
     },
     "execution_count": 90,
     "metadata": {},
     "output_type": "execute_result"
    }
   ],
   "source": [
    "course.add_student(s1)\n",
    "course.add_student(s2)"
   ]
  },
  {
   "cell_type": "code",
   "execution_count": 91,
   "id": "34990cac",
   "metadata": {},
   "outputs": [
    {
     "data": {
      "text/plain": [
       "False"
      ]
     },
     "execution_count": 91,
     "metadata": {},
     "output_type": "execute_result"
    }
   ],
   "source": [
    "course.add_student(s3)"
   ]
  },
  {
   "cell_type": "code",
   "execution_count": 92,
   "id": "90dbc37f",
   "metadata": {},
   "outputs": [
    {
     "name": "stdout",
     "output_type": "stream",
     "text": [
      "[<__main__.Student object at 0x0000016735F446D0>, <__main__.Student object at 0x0000016735F44250>]\n"
     ]
    }
   ],
   "source": [
    "print(course.students) #two object of class __main__.Student"
   ]
  },
  {
   "cell_type": "code",
   "execution_count": 93,
   "id": "9b421e24",
   "metadata": {},
   "outputs": [
    {
     "name": "stdout",
     "output_type": "stream",
     "text": [
      "Tim\n",
      "Bill\n"
     ]
    }
   ],
   "source": [
    "# Name of each student \n",
    "print(course.students[0].name)\n",
    "print(course.students[1].name)"
   ]
  },
  {
   "cell_type": "code",
   "execution_count": 94,
   "id": "a225836a",
   "metadata": {
    "scrolled": true
   },
   "outputs": [
    {
     "name": "stdout",
     "output_type": "stream",
     "text": [
      "95\n",
      "98\n"
     ]
    }
   ],
   "source": [
    "# Can show grade of each student too \n",
    "print(course.students[0].grade)\n",
    "print(course.students[1].grade)"
   ]
  },
  {
   "cell_type": "code",
   "execution_count": 95,
   "id": "d9d9be8b",
   "metadata": {},
   "outputs": [
    {
     "name": "stdout",
     "output_type": "stream",
     "text": [
      "96.5\n"
     ]
    }
   ],
   "source": [
    "print(course.get_average_grade())"
   ]
  },
  {
   "cell_type": "markdown",
   "id": "0b3f86f5",
   "metadata": {},
   "source": [
    "## Advanced "
   ]
  },
  {
   "cell_type": "markdown",
   "id": "07d62ef6",
   "metadata": {},
   "source": [
    "### Inheritance "
   ]
  },
  {
   "cell_type": "code",
   "execution_count": 8,
   "id": "a173aa0f",
   "metadata": {},
   "outputs": [],
   "source": [
    "class Pet:\n",
    "    def __init__(self,name,age):\n",
    "        self.name = name \n",
    "        self.age = age\n",
    "    def show(self):\n",
    "        print(f\"I am {self.name} and I am {self.age} years old\")\n",
    "    def speak(self):\n",
    "        print(\"I dont't know\")\n",
    "        \n",
    "# Both Cat and Dog inheritance from Pet \n",
    "class Cat(Pet):\n",
    "    def speak(self):\n",
    "        print(\"Meow\")\n",
    "        \n",
    "class Dog(Pet):     \n",
    "    def speak(self):\n",
    "        print(\"Bark\")"
   ]
  },
  {
   "cell_type": "code",
   "execution_count": 9,
   "id": "f1f51045",
   "metadata": {},
   "outputs": [
    {
     "name": "stdout",
     "output_type": "stream",
     "text": [
      "I am Tim and I am 19 years old\n"
     ]
    }
   ],
   "source": [
    "p = Pet(\"Tim\", 19)\n",
    "p.show()"
   ]
  },
  {
   "cell_type": "code",
   "execution_count": 10,
   "id": "b7d86e8d",
   "metadata": {},
   "outputs": [
    {
     "name": "stdout",
     "output_type": "stream",
     "text": [
      "I am Bill and I am 20 years old\n"
     ]
    }
   ],
   "source": [
    "c = Cat(\"Bill\", 20)\n",
    "c.show() # Inheritance from Pet class "
   ]
  },
  {
   "cell_type": "code",
   "execution_count": 11,
   "id": "f209bc1c",
   "metadata": {},
   "outputs": [
    {
     "name": "stdout",
     "output_type": "stream",
     "text": [
      "Meow\n"
     ]
    }
   ],
   "source": [
    "c.speak() # Method of Cat class "
   ]
  },
  {
   "cell_type": "code",
   "execution_count": 12,
   "id": "7913138e",
   "metadata": {},
   "outputs": [
    {
     "name": "stdout",
     "output_type": "stream",
     "text": [
      "I am Jill and I am 25 years old\n"
     ]
    }
   ],
   "source": [
    "# equivalent\n",
    "d = Dog(\"Jill\", 25)\n",
    "d.show()"
   ]
  },
  {
   "cell_type": "code",
   "execution_count": 13,
   "id": "5c5547cb",
   "metadata": {},
   "outputs": [
    {
     "name": "stdout",
     "output_type": "stream",
     "text": [
      "Bark\n"
     ]
    }
   ],
   "source": [
    "d.speak()"
   ]
  },
  {
   "cell_type": "code",
   "execution_count": 14,
   "id": "b6b52899",
   "metadata": {},
   "outputs": [
    {
     "name": "stdout",
     "output_type": "stream",
     "text": [
      "I dont't know\n"
     ]
    }
   ],
   "source": [
    "p.speak()"
   ]
  },
  {
   "cell_type": "markdown",
   "id": "b6617dd2",
   "metadata": {},
   "source": [
    "- Nếu có method ở trong lớp con trùng tên với method trong lớp cha thì method trong lớp con của đối tượng sẽ được gọi đến\n",
    "- Như ví dụ trên c.speak() và d.speak() hiển thị kết quả của method speak() trong 2 class Cat và Dog được kế thừa từ Pet "
   ]
  },
  {
   "cell_type": "code",
   "execution_count": 15,
   "id": "b90b7cdc",
   "metadata": {},
   "outputs": [],
   "source": [
    "# Giả sử bây giờ cần có một class Fish gồm các thuộc tính name, age, color thì sao (Bổ sung thêm thuộc tính color so với lớp cha) ? \n",
    "class Fish(Pet):\n",
    "    def __init__(self, name, age, color):\n",
    "        super().__init__(name,age) # truyền tham chiếu name và age đến lớp cha Pet \n",
    "        self.color = color \n",
    "    \n",
    "    def show(self):\n",
    "        print(f\"I am {self.name} and I am {self.age} years old and I am {self.color}\")"
   ]
  },
  {
   "cell_type": "code",
   "execution_count": 16,
   "id": "930db3f7",
   "metadata": {},
   "outputs": [
    {
     "name": "stdout",
     "output_type": "stream",
     "text": [
      "I am Dill and I am 6 years old and I am yellow\n"
     ]
    }
   ],
   "source": [
    "f = Fish(\"Dill\", 6, \"yellow\")\n",
    "f.show()"
   ]
  },
  {
   "cell_type": "code",
   "execution_count": 17,
   "id": "b50333aa",
   "metadata": {},
   "outputs": [
    {
     "name": "stdout",
     "output_type": "stream",
     "text": [
      "I dont't know\n"
     ]
    }
   ],
   "source": [
    "f.speak() # Vì không có method nào trùng tên nên Fish sẽ kế thừa method speak của lớp cha"
   ]
  },
  {
   "cell_type": "markdown",
   "id": "174d7f59",
   "metadata": {},
   "source": [
    "### Class Atribute"
   ]
  },
  {
   "cell_type": "code",
   "execution_count": 33,
   "id": "b5d4202a",
   "metadata": {},
   "outputs": [],
   "source": [
    "class Person:\n",
    "    number_of_people = 0 #Class Atribute\n",
    "    def __init__(self,name):\n",
    "        self.name = name \n",
    "        Person.number_of_people += 1 # Mỗi lần thêm người thì thuộc tính toàn class người này tăng thêm 1 :)\n",
    "\n",
    "p1 = Person(\"Tim\")\n",
    "p2 = Person(\"Jill\")"
   ]
  },
  {
   "cell_type": "code",
   "execution_count": 34,
   "id": "e82238b0",
   "metadata": {},
   "outputs": [
    {
     "name": "stdout",
     "output_type": "stream",
     "text": [
      "2\n",
      "2\n",
      "2\n"
     ]
    }
   ],
   "source": [
    "# Vì đã thêm 2 người nên number_of_people = 2\n",
    "print(p1.number_of_people)\n",
    "print(p2.number_of_people)\n",
    "print(Person.number_of_people)"
   ]
  },
  {
   "cell_type": "markdown",
   "id": "9b40c914",
   "metadata": {},
   "source": [
    "- Class Atribute: Được dùng chung trên toàn bộ lớp, không phải thuộc tính riêng của từng cá thể \n",
    "- Các cá thể không thay đổi được thuộc tính này "
   ]
  },
  {
   "cell_type": "code",
   "execution_count": 35,
   "id": "f0be3c86",
   "metadata": {},
   "outputs": [
    {
     "name": "stdout",
     "output_type": "stream",
     "text": [
      "8\n"
     ]
    }
   ],
   "source": [
    "# thay đổi giá trị \n",
    "Person.number_of_people = 8\n",
    "print(p2.number_of_people)"
   ]
  },
  {
   "cell_type": "markdown",
   "id": "f56cd5a2",
   "metadata": {},
   "source": [
    "### Class Method "
   ]
  },
  {
   "cell_type": "code",
   "execution_count": 39,
   "id": "38629907",
   "metadata": {},
   "outputs": [],
   "source": [
    "class Person:\n",
    "    number_of_people = 0\n",
    "    \n",
    "    def __init__(self, name):\n",
    "        self.name = name \n",
    "        Person.add_person() # Gọi class method add_person mỗi khi có người được thêm vào\n",
    "    \n",
    "    # @classmethod chú thích rằng đây là một class method \n",
    "    @classmethod\n",
    "    def number_of_people_(cls):\n",
    "        return cls.number_of_people\n",
    "    \n",
    "    @classmethod\n",
    "    def add_person(cls):\n",
    "        cls.number_of_people += 1"
   ]
  },
  {
   "cell_type": "markdown",
   "id": "d0f87065",
   "metadata": {},
   "source": [
    "- Thay thế self bằng cls vì đây là class method chứ không phải method cho riêng từng cá thể (giống class atribute :) )"
   ]
  },
  {
   "cell_type": "code",
   "execution_count": 40,
   "id": "3106bed3",
   "metadata": {},
   "outputs": [],
   "source": [
    "p1 = Person(\"Tim\")\n",
    "p2 = Person(\"Jill\")"
   ]
  },
  {
   "cell_type": "code",
   "execution_count": 41,
   "id": "3e33c838",
   "metadata": {},
   "outputs": [
    {
     "data": {
      "text/plain": [
       "2"
      ]
     },
     "execution_count": 41,
     "metadata": {},
     "output_type": "execute_result"
    }
   ],
   "source": [
    "Person.number_of_people_()"
   ]
  },
  {
   "cell_type": "markdown",
   "id": "b109b874",
   "metadata": {},
   "source": [
    "### Static Method \n",
    "- Không thay đổi bất cứ thứ gì trong class, khác với class method "
   ]
  },
  {
   "cell_type": "code",
   "execution_count": 57,
   "id": "84e783d8",
   "metadata": {},
   "outputs": [
    {
     "name": "stdout",
     "output_type": "stream",
     "text": [
      "11\n",
      "This is static method!\n"
     ]
    }
   ],
   "source": [
    "class Math:\n",
    "    @staticmethod\n",
    "    def addfive(x):\n",
    "        return x+5\n",
    "    \n",
    "    @staticmethod \n",
    "    def show():\n",
    "        print(\"This is static method!\")\n",
    "        \n",
    "print(Math.addfive(6))\n",
    "Math.show()"
   ]
  }
 ],
 "metadata": {
  "kernelspec": {
   "display_name": "Python 3",
   "language": "python",
   "name": "python3"
  },
  "language_info": {
   "codemirror_mode": {
    "name": "ipython",
    "version": 3
   },
   "file_extension": ".py",
   "mimetype": "text/x-python",
   "name": "python",
   "nbconvert_exporter": "python",
   "pygments_lexer": "ipython3",
   "version": "3.8.8"
  }
 },
 "nbformat": 4,
 "nbformat_minor": 5
}
