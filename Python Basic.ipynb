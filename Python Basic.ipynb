{
 "cells": [
  {
   "cell_type": "markdown",
   "id": "9062bc64",
   "metadata": {},
   "source": [
    "# PYTHON QUICKSTART"
   ]
  },
  {
   "cell_type": "markdown",
   "id": "187d5271",
   "metadata": {},
   "source": [
    "## Variable\n"
   ]
  },
  {
   "cell_type": "code",
   "execution_count": 27,
   "id": "570c733c",
   "metadata": {},
   "outputs": [
    {
     "name": "stdout",
     "output_type": "stream",
     "text": [
      "5\n",
      "<class 'int'>\n",
      "Hello Python\n",
      "<class 'str'>\n",
      "5.2\n",
      "<class 'float'>\n",
      "5\n",
      "10\n",
      "3\n",
      "5\n"
     ]
    }
   ],
   "source": [
    "#Không cần khai báo biến với python (biến sẽ tự tạo khi được gán giá trị, chuỗi, list, ...)\n",
    "\n",
    "#Tạo biến nguyên \n",
    "x = 5\n",
    "print(x) #5\n",
    "print(type(x)) #int\n",
    "\n",
    "#Tạo biến là một str\n",
    "y = \"Hello Python\"\n",
    "print(y) #Hello python\n",
    "print(type(y)) #str\n",
    "\n",
    "y = 5.2 #thay đổi biến y từ kiểu str -> float\n",
    "print(y) #5.2\n",
    "print(type(y)) #float\n",
    "\n",
    "\n",
    "#Tên của biến được phân biệt chữ in hoa, in thường và chỉ gồm kí tự chữ, số, _\n",
    "my_var = 5 \n",
    "My_var = 10\n",
    "print(my_var) #5\n",
    "print(My_var) #10\n",
    "\n",
    "#Thay đổi giá trị biến bằng hàm\n",
    "def my_func():\n",
    "    global x\n",
    "    x = 5\n",
    "    \n",
    "x = 3\n",
    "print(x) #3\n",
    "my_func()\n",
    "print(x) #5"
   ]
  },
  {
   "cell_type": "markdown",
   "id": "da3d626d",
   "metadata": {},
   "source": [
    "## Data Types"
   ]
  },
  {
   "cell_type": "markdown",
   "id": "a6f5f8f1",
   "metadata": {},
   "source": [
    "Các kiểu thường dùng:\n",
    "- Number: int, float, complex\n",
    "- String: str\n",
    "- Sequence Types: list, tuples, range\n",
    "- Mapping: dict\n",
    "- Set: set\n",
    "- Boolean Type: bool\n",
    "\n",
    "Ngoài ra: frozenset, bytes, bytearray, memoryview"
   ]
  },
  {
   "cell_type": "code",
   "execution_count": 4,
   "id": "d967aa79",
   "metadata": {},
   "outputs": [
    {
     "name": "stdout",
     "output_type": "stream",
     "text": [
      "5\n",
      "<class 'int'>\n",
      "(2+3j)\n",
      "<class 'complex'>\n",
      "5\n",
      "2.0\n",
      "(5+4j)\n"
     ]
    }
   ],
   "source": [
    "# Number\n",
    "x = 5\n",
    "print(x) #5\n",
    "print(type(x)) #int\n",
    "\n",
    "z = 2+3j\n",
    "print(z) #2+3j\n",
    "print(type(z)) #complex\n",
    "\n",
    "\n",
    "#type casting:\n",
    "a = int(5.2) \n",
    "b = float(2) \n",
    "c = complex(5,4)\n",
    "print(a) #5\n",
    "print(b) #2.0\n",
    "print(c) #5+4j"
   ]
  },
  {
   "cell_type": "code",
   "execution_count": 24,
   "id": "0038747c",
   "metadata": {},
   "outputs": [
    {
     "name": "stdout",
     "output_type": "stream",
     "text": [
      "Hello Python\n",
      "12\n",
      "          This is a multiline string\n",
      "                        Hello Python                    \n",
      "P\n",
      "yth\n",
      "Pyth\n",
      "on is a programming language\n",
      "PYTHON IS AMAZING\n",
      "python is amazing\n",
      "Python Is Amazing\n",
      "['Python', 'Is', 'Amazing']\n",
      " Python Is Amazkng  \n"
     ]
    }
   ],
   "source": [
    "# String\n",
    "s = \"Hello Python\" #create a string \n",
    "print(s) #Hello Python\n",
    "print(len(s)) #get length of s is 12\n",
    "\n",
    "s1 = '''          This is a multiline string\n",
    "                        Hello Python                    '''\n",
    "print(s1) #       This is a multiline string\n",
    "          #             Hello Python            \n",
    "    \n",
    "#Truy cập phần tử trong string \n",
    "s2 = \"Python is a programming language\"\n",
    "print(s2[0]) # \"P\". s2[0] is a str, not a character\n",
    "\n",
    "print(s2[1:4]) #Use slicing string to present: yth\n",
    "print(s2[:4]) #Pyth\n",
    "print(s2[4:]) #on is a programming language\n",
    "\n",
    "\n",
    "# ======= MỘT SỐ HÀM THAO TÁC VỚI STRING =======\n",
    "# Các hàm thao tác sẽ tạo ra string mới (trả về str) và giữ nguyên string ban đầu \n",
    "s = \"Python Is Amazing\"\n",
    "\n",
    "# Chuyển thành chữ hoa\n",
    "x = s.upper()\n",
    "print(x) #PYTHON IS AMAZING\n",
    "\n",
    "# Chuyển thành chữ thường\n",
    "x = s.lower()\n",
    "print(x) #python is amazing\n",
    "\n",
    "# Loại bỏ khoảng trắng ở đầu và cuối \n",
    "s = \" Python Is Amazing  \"\n",
    "x = s.strip()\n",
    "print(x) #Python Is Amazing\n",
    "\n",
    "# Tách từng từ trong chuỗi ra list \n",
    "x = s.split() #x is a list now\n",
    "print(x) #['Python', 'Is', 'Amazing']\n",
    "\n",
    "# Thay thế kí tự \n",
    "x = s.replace(\"i\", \"k\")\n",
    "print(x)\n"
   ]
  },
  {
   "cell_type": "code",
   "execution_count": 31,
   "id": "0ba4cec5",
   "metadata": {},
   "outputs": [
    {
     "name": "stdout",
     "output_type": "stream",
     "text": [
      "True\n",
      "False\n",
      "True\n",
      "False\n",
      "True\n"
     ]
    }
   ],
   "source": [
    "# Booleans: Booleans represent one of two values: True or False\n",
    "x = 10 > 9 #create x is a booleans variable\n",
    "y = 1 > 10\n",
    "print(x) #True\n",
    "print(y) #False\n",
    "\n",
    "# bool() function to evaluate any values \n",
    "c = bool(\"abc\")\n",
    "print(c) #True\n",
    "\n",
    "d = bool(None)\n",
    "print(d)\n",
    "\n",
    "# isinstance() function check a variable data types\n",
    "print(isinstance(5, int)) #True"
   ]
  },
  {
   "cell_type": "code",
   "execution_count": 4,
   "id": "88eb809a",
   "metadata": {},
   "outputs": [
    {
     "name": "stdout",
     "output_type": "stream",
     "text": [
      "[1, 2, 3, 4, 5]\n",
      "5\n",
      "3\n",
      "[2, 3]\n",
      "[1, 2, 3]\n",
      "[2, 4]\n",
      "3\n",
      "7\n",
      "[1, 7, 9, 4, 5]\n",
      "[1, 2, 3, 6, 4, 5]\n",
      "[1, 7, 2, 3, 4, 5]\n",
      "[1, 7, 2, 3, 4, 5, 6]\n",
      "[1, 7, 2, 3, 4, 5, 6, 8, 9, 10]\n",
      "[1, 7, 2, 3, 4, 5, 6, 9, 10]\n",
      "[1, 2, 3, 4, 5, 6, 9, 10]\n",
      "[1, 2, 3, 4, 5, 6, 9, 10]\n",
      "[10, 9, 6, 5, 4, 3, 2, 1]\n",
      "[10, 9, 6, 5, 4, 3, 2, 1]\n",
      "[]\n"
     ]
    },
    {
     "ename": "NameError",
     "evalue": "name 'l' is not defined",
     "output_type": "error",
     "traceback": [
      "\u001b[1;31m---------------------------------------------------------------------------\u001b[0m",
      "\u001b[1;31mNameError\u001b[0m                                 Traceback (most recent call last)",
      "\u001b[1;32m<ipython-input-4-52c3ba36c968>\u001b[0m in \u001b[0;36m<module>\u001b[1;34m\u001b[0m\n\u001b[0;32m     63\u001b[0m \u001b[1;31m# del để xóa hoàn toàn khỏi vùng nhớ\u001b[0m\u001b[1;33m\u001b[0m\u001b[1;33m\u001b[0m\u001b[1;33m\u001b[0m\u001b[0m\n\u001b[0;32m     64\u001b[0m \u001b[1;32mdel\u001b[0m \u001b[0ml\u001b[0m\u001b[1;33m\u001b[0m\u001b[1;33m\u001b[0m\u001b[0m\n\u001b[1;32m---> 65\u001b[1;33m \u001b[0mprint\u001b[0m\u001b[1;33m(\u001b[0m\u001b[0ml\u001b[0m\u001b[1;33m)\u001b[0m \u001b[1;31m#lỗi vì l đã xóa\u001b[0m\u001b[1;33m\u001b[0m\u001b[1;33m\u001b[0m\u001b[0m\n\u001b[0m",
      "\u001b[1;31mNameError\u001b[0m: name 'l' is not defined"
     ]
    }
   ],
   "source": [
    "# Lists\n",
    "# Đặc trưng: Có thứ tự, có thể thêm sửa xóa, có thể chứa các phần tử giống nhau \n",
    "l = [1,2,3,4,5] #create a list\n",
    "print(l) #[1, 2, 3, 4 ,5]\n",
    "print(len(l)) #length of list: 5\n",
    "\n",
    "# list index\n",
    "print(l[2]) #3\n",
    "print(l[1:3]) #[2,3]\n",
    "print(l[:3]) #[1, 2, 3]\n",
    "print(l[1:5:2]) #[2, 4]\n",
    "\n",
    "# change list item\n",
    "print(l[2]) #3\n",
    "l[2] = 7\n",
    "print(l[2]) # 7\n",
    "# l = [1,2,7,3,4,5]\n",
    "l[1:3] = 7, 9\n",
    "print(l) #[1, 7, 9, 4, 5]\n",
    "\n",
    "l[1:3] = 2, 3, 6 #tự thêm 6 vào khi số lượng phần từ được gán ít hơn số lượng truy cập \n",
    "print(l) #[1, 2, 3, 6, 4, 5]\n",
    "\n",
    "\n",
    "# ======= MỘT SỐ HÀM THAO TÁC VỚI LIST =======\n",
    "l = [1,2,3,4,5] #create a list\n",
    "\n",
    "# thêm 1 giá trị vào vị trí\n",
    "l.insert(1,7)\n",
    "print(l) #[1, 7, 2, 3, 4, 5]\n",
    "\n",
    "# thêm 1 giá trị vào cuối\n",
    "l.append(6)\n",
    "print(l) #[1, 7, 2, 3, 4, 5, 6]\n",
    "\n",
    "# mở rộng list bằng cách thêm các phần tử của list, tuple, set... khác vào\n",
    "l2 = [8,9,10]\n",
    "l.extend(l2)\n",
    "print(l) #[1, 7, 2, 3, 4, 5, 6, 8, 9, 10]\n",
    "\n",
    "# xóa phần tử theo giá trị\n",
    "l.remove(8)\n",
    "print(l) #[1, 7, 2, 3, 4, 5, 6, 9, 10]\n",
    "\n",
    "# xóa phần tử theo vị trí \n",
    "l.pop(1) #xóa phần tử thứ 2 \n",
    "print(l) #[1, 2, 3, 4, 5, 6, 9, 10]\n",
    "\n",
    "# sắp xếp tăng dần và sắp xếp giảm dần \n",
    "l.sort() #tăng dần \n",
    "print(l) #[1, 2, 3, 4, 5, 6, 9, 10]\n",
    "l.sort(reverse = True) #giảm dần\n",
    "print(l) #[10, 9, 6, 5, 4, 3, 2, 1]\n",
    "\n",
    "# sao chép phần tử\n",
    "l2 = l.copy()\n",
    "print(l2) #[10, 9, 6, 5, 4, 3, 2, 1]\n",
    "\n",
    "# xóa toàn bộ phần tử \n",
    "l.clear()\n",
    "print(l)\n",
    "\n",
    "# del để xóa hoàn toàn khỏi vùng nhớ\n",
    "del l \n",
    "print(l) #lỗi vì l đã xóa "
   ]
  },
  {
   "cell_type": "code",
   "execution_count": 71,
   "id": "63826393",
   "metadata": {},
   "outputs": [
    {
     "name": "stdout",
     "output_type": "stream",
     "text": [
      "(1, 2, 3, 4, 5)\n",
      "5\n",
      "3\n",
      "(2, 3)\n",
      "(1, 2, 3)\n"
     ]
    }
   ],
   "source": [
    "# Tuple\n",
    "# Đặc trưng: Có thứ tự, không thể thêm sửa xóa, có thể chứa phần tử trùng\n",
    "t = (1, 2, 3, 4, 5) #create a tuple\n",
    "print(t) #(1, 2, 3, 4, 5)\n",
    "print(len(t)) #length of tuple: 5\n",
    "\n",
    "# tuple index\n",
    "print(t[2]) #3\n",
    "print(t[1:3]) #(2, 3)\n",
    "print(t[:3]) #(1, 2, 3)\n",
    "\n",
    "# có thể chuyển đổi tuple sang list để thao tác rồi chuyển lại về tuple"
   ]
  },
  {
   "cell_type": "code",
   "execution_count": 35,
   "id": "3874fc95",
   "metadata": {},
   "outputs": [
    {
     "name": "stdout",
     "output_type": "stream",
     "text": [
      "{1, 2, 3, 4, 5}\n",
      "5\n",
      "1\n",
      "2\n",
      "3\n",
      "4\n",
      "5\n",
      "{1, 2, 3, 4, 5, 6}\n",
      "{1, 2, 3, 4, 5, 6, 7, 8, 9}\n",
      "{1, 2, 3, 4, 5, 6, 7, 8}\n",
      "{1, 2, 3, 4, 5, 6, 7, 8}\n",
      "{1, 2, 3, 4, 5, 6, 7, 8}\n",
      "set()\n",
      "{1, 2, 3, 4, 5, 6, 7}\n",
      "{3, 4}\n",
      "{3, 4}\n",
      "{1, 4}\n",
      "{1, 4}\n"
     ]
    }
   ],
   "source": [
    "# Set: tập hợp trong toán học\n",
    "# Đặc trưng: không có thứ tự, không thể sửa nhưng có thể thêm và xóa, không chứa phần tử trùng\n",
    "s = {1, 2, 3, 4, 4, 5, 5} #creat a set\n",
    "print(s) #{1, 2, 3, 4, 5}\n",
    "print(len(s)) #5\n",
    "\n",
    "# Vì set không có thứ tự nên chỉ có thể truy cập bằng for, không truy cập bằng index\n",
    "for x in s:\n",
    "    print(x) #1\n",
    "             #2\n",
    "             #3\n",
    "             #4\n",
    "             #5\n",
    "            \n",
    "# ======= MỘT SỐ HÀM THAO TÁC VỚI SET =======\n",
    "# thêm phần tử\n",
    "s.add(6)\n",
    "print(s) #{1, 2, 3, 4, 5, 6}\n",
    "\n",
    "# thêm nhiều phần tử (thêm set vào set, list vào set...)\n",
    "s2 = {8, 7, 9, 6 ,5 }\n",
    "s.update(s2)\n",
    "print(s) #{1, 2, 3, 4, 5, 6, 7, 8, 9}\n",
    "\n",
    "# xóa phần tử theo giá trị\n",
    "s.remove(9)\n",
    "print(s) #{1, 2, 3, 4, 5, 6, 7, 8}\n",
    "\n",
    "# khi xóa phần tử không có trong set remove() sẽ gây ra lỗi vì vậy dùng discard()\n",
    "s.discard(10) # 10 không có trong set\n",
    "print(s) #{1, 2, 3, 4, 5, 6, 7, 8}\n",
    "\n",
    "# sao chép set\n",
    "s_1 = s.copy()\n",
    "print(s_1) #{1, 2, 3, 4, 5, 6, 7, 8}\n",
    "\n",
    "# xóa toàn bộ phần tử\n",
    "s.clear()\n",
    "print(s)\n",
    "\n",
    "# xóa khỏi vùng nhớ\n",
    "#del s\n",
    "#print(s) #lỗi vì s đã xóa hoàn toàn \n",
    "\n",
    "# ======= MỘT SỐ HÀM THAO TÁC TOÁN HỌC VỚI SET =======\n",
    "s1 = {1,2,3,4}\n",
    "s2 = {3,4,5,6,7}\n",
    "\n",
    "# hợp hai set\n",
    "s = s1.union(s2) \n",
    "print(s) #{1, 2, 3, 4, 5, 6, 7}\n",
    "\n",
    "# giao hai set\n",
    "s = s1.intersection(s2) #trả về set mới\n",
    "print(s) #{3, 4}\n",
    "\n",
    "s1.intersection_update(s2) #update giao lên set s1\n",
    "print(s1) #{3, 4}\n",
    "\n",
    "# hợp các phần tử không giống nhau\n",
    "s1 = {1,2,3}\n",
    "s2 = {4,2,3}\n",
    "s = s1.symmetric_difference(s2) #trả về set mới\n",
    "print(s) #{1,4}\n",
    "\n",
    "s1.symmetric_difference_update(s2) #update hợp không trùng lên set s1\n",
    "print(s1) #{1,4}\n"
   ]
  },
  {
   "cell_type": "code",
   "execution_count": 108,
   "id": "a52a08fa",
   "metadata": {},
   "outputs": [
    {
     "name": "stdout",
     "output_type": "stream",
     "text": [
      "{'brand': 'Ford', 'model': 'Mustang', 'year': 1964}\n",
      "Ford\n",
      "Toyota\n",
      "dict_keys(['brand', 'model', 'year'])\n",
      "dict_values(['Toyota', 'Mustang', 1964])\n",
      "dict_items([('brand', 'Toyota'), ('model', 'Mustang'), ('year', 1964)])\n",
      "{'brand': 'Toyota', 'model': 'Mustang', 'year': 1964, 'color': 'red'}\n",
      "{'brand': 'Toyota', 'model': 'Mustang', 'year': 1964}\n",
      "{'brand': 'Toyota', 'model': 'Mustang', 'year': 1964}\n"
     ]
    }
   ],
   "source": [
    "# Dict: Từ điển theo cặp key-value\n",
    "# Đặc trưng: Có thứ tự, có thể thêm sửa xóa, không chứa phần tử trùng (trùng key)\n",
    "d = {\n",
    "  \"brand\": \"Ford\",\n",
    "  \"model\": \"Mustang\",\n",
    "  \"year\": 1964\n",
    "} #create a dict\n",
    "\n",
    "print(d) #{'brand': 'Ford', 'model': 'Mustang', 'year': 1964}\n",
    "\n",
    "#print value with key \n",
    "print(d[\"brand\"]) #\"Ford\"\n",
    "d[\"brand\"] = \"Toyota\" #thay đổi values\n",
    "print(d[\"brand\"]) #\"Toyota\"\n",
    "\n",
    "# ======= MỘT SỐ HÀM THAO TÁC VỚI DICT =======\n",
    "# xuất toàn bộ keys trong dict\n",
    "print(d.keys()) #dict_keys(['brand', 'model', 'year'])\n",
    "\n",
    "# xuất toàn bộ values trong dict\n",
    "print(d.values()) #dict_values(['Ford', 'Mustang', 1964])\n",
    "\n",
    "# xuất toàn bộ cặp key-value\n",
    "print(d.items())\n",
    "\n",
    "# thêm một cặp key-value\n",
    "d[\"color\"] = \"red\" #thêm bằng cách thêm key và value\n",
    "print(d)\n",
    "\n",
    "# xóa key-value\n",
    "d.pop(\"color\")\n",
    "print(d)\n",
    "\n",
    "# sao chép dict\n",
    "newdict = d.copy()\n",
    "print(newdict)\n",
    "\n"
   ]
  },
  {
   "cell_type": "markdown",
   "id": "08c942e2",
   "metadata": {},
   "source": [
    "## Input / Output\n"
   ]
  },
  {
   "cell_type": "code",
   "execution_count": 111,
   "id": "673252bc",
   "metadata": {},
   "outputs": [
    {
     "name": "stdout",
     "output_type": "stream",
     "text": [
      "Nhap chuoi s:\n",
      "hello python\n",
      "Chuoi ban da nhap la: hello python\n",
      "Nhap n:\n",
      "5\n",
      "Gia tri cua n = 5\n",
      "Moi ban nhap chuoi s:long\n",
      "long\n"
     ]
    }
   ],
   "source": [
    "#Sử dụng hàm input để nhận input từ bàn phím. Hàm input nhận vào kiểu str nên muốn lưu trữ kiểu khác ta cần chuyển kiểu\n",
    "print(\"Nhap chuoi s:\")\n",
    "s = input() #s kiểu str\n",
    "print(\"Chuoi ban da nhap la:\", s)\n",
    "\n",
    "print(\"Nhap n:\")\n",
    "n = int(input())\n",
    "print(\"Gia tri cua n =\", n)\n",
    "\n",
    "#Ngoài ra input() có thể in ra màn hình (thường dùng để thông báo cho người dùng khi chờ nhập)\n",
    "s = input(\"Moi ban nhap chuoi s:\")\n",
    "print(s)"
   ]
  },
  {
   "cell_type": "code",
   "execution_count": 14,
   "id": "946786b9",
   "metadata": {},
   "outputs": [
    {
     "name": "stdout",
     "output_type": "stream",
     "text": [
      "***************\n",
      "27\n",
      "format will insert character here abc\n",
      "STT     Giá trị\n",
      "---------------\n",
      " 1 10000000000\n",
      " 2  1000000000\n",
      " 3   100000000\n",
      " 4    10000000\n",
      " 5     1000000\n",
      " 6      100000\n",
      " 7       10000\n",
      "---------------\n",
      "2\n",
      "3\n",
      "2 3\n"
     ]
    }
   ],
   "source": [
    "#Để in ra màn hình dùng print()\n",
    "print('*' * 15) #***************\n",
    "                #in ra màn hình 15 kí tự *: \n",
    "\n",
    "\n",
    "#Dùng hàm format(): format in ra màn hìn hcác tham số được truyền vào hàm tại dấu {} \n",
    "print(\"{}{}\".format(2,7)) \n",
    "print(\"format will insert character here {}\".format(\"abc\"))\n",
    "\n",
    "#Dùng format căn phải\n",
    "print(\"{:>2} {:>11}\".format(\"STT\", \"Giá trị\")) #căn phải đủ 2 kí tự, 11 kí tự, nếu k đủ thì tự thêm khoảng trắng\n",
    "print(\"-\" * 15)\n",
    "print(\"{:>2} {:>11}\".format(1, 10**10))\n",
    "print(\"{:>2} {:>11}\".format(2, 10**9))\n",
    "print(\"{:>2} {:>11}\".format(3, 10**8))\n",
    "print(\"{:>2} {:>11}\".format(4, 10**7))\n",
    "print(\"{:>2} {:>11}\".format(5, 10**6))\n",
    "print(\"{:>2} {:>11}\".format(6, 10**5))\n",
    "print(\"{:>2} {:>11}\".format(7, 10**4))\n",
    "print(\"-\" * 15)\n",
    "\n",
    "# end: định dạng khi in\n",
    "print(2) #mặc định end = '\\n'\n",
    "print(3) #mặc định end = '\\n'\n",
    "# 2 \n",
    "# 3\n",
    "print(2, end =' ') \n",
    "print(3)\n",
    "# 2 3"
   ]
  },
  {
   "cell_type": "markdown",
   "id": "cef15ea8",
   "metadata": {},
   "source": [
    "## Operators"
   ]
  },
  {
   "cell_type": "code",
   "execution_count": 68,
   "id": "e1eb8165",
   "metadata": {},
   "outputs": [
    {
     "name": "stdout",
     "output_type": "stream",
     "text": [
      "9\n",
      "1\n",
      "20\n",
      "1.25\n",
      "1\n",
      "1\n",
      "625\n"
     ]
    }
   ],
   "source": [
    "# ========= Toán tử số học =========\n",
    "# +\n",
    "x, y = 5, 4\n",
    "print(x+y) #9\n",
    "\n",
    "# -\n",
    "print(x-y) #1\n",
    "\n",
    "# *\n",
    "print(x*y) #20\n",
    "\n",
    "# /\n",
    "print(x/y) #1.25\n",
    "\n",
    "# //\n",
    "print(x//y) #1\n",
    "\n",
    "# %\n",
    "print(x%y) #1\n",
    "\n",
    "# **\n",
    "print(x**y) #625\n",
    "\n",
    "\n",
    "# ========= Toán tử gán =========\n",
    "# = , += , -= , /= , //= , %= , *= , **= , |= , &= , ~= , >>= , <<= , ^=\n",
    "\n",
    "# ========= Toán tử logic =========\n",
    "# and , or , not\n",
    "\n",
    "# ========= Toán tử so sánh =========\n",
    "# == , != , > , < , >= , <= , \n",
    "\n",
    "# ========= Toán tử định danh =========\n",
    "# kiểm tra đối tượng x có phải y: x is y , x is not y\n",
    "\n",
    "# ========= Toán tử kiểm tra có phải thành viên =========\n",
    "# x in y , x not in y\n",
    "\n",
    "# # ========= Toán tử bitwise =========\n",
    "# & , ^ , ~ , | , >> , << \n"
   ]
  },
  {
   "cell_type": "markdown",
   "id": "172de0cf",
   "metadata": {},
   "source": [
    "## Branch Conditions"
   ]
  },
  {
   "cell_type": "code",
   "execution_count": 164,
   "id": "b56ec3c7",
   "metadata": {},
   "outputs": [
    {
     "name": "stdout",
     "output_type": "stream",
     "text": [
      "a is greater than b\n",
      "b\n",
      "b\n",
      "13\n"
     ]
    }
   ],
   "source": [
    "# if ... else \n",
    "# cú pháp:\n",
    "# if(condition):\n",
    "#    block\n",
    "# elif(condition):\n",
    "#    block\n",
    "# else:\n",
    "#    block\n",
    "\n",
    "a = 200\n",
    "b = 33\n",
    "if b > a:\n",
    "  print(\"b is greater than a\")\n",
    "elif a == b:\n",
    "  print(\"a and b are equal\")\n",
    "else:\n",
    "  print(\"a is greater than b\")\n",
    "    \n",
    "# Short hand if...else: expression1 if condition1 else expression2 if condition2 else expression3 \n",
    "a = 33\n",
    "b = 200\n",
    "print(\"a\") if a>b else print(\"b\") #b\n",
    "\n",
    "print(\"a\") if a>b else print(\"=\") if a==b else print(\"b\")\n",
    "\n",
    "# pass: trong các câu lệnh if else, while, for ... không thể để rỗng nên ta có thể thêm pass vào (để làm sau, để suy nghĩ lúc khác viết ...)\n",
    "if a < b:\n",
    "    pass # a = 33, b = 200 nên a < b nhưng trong hàm a < b là pass -> không làm gì (pass chỉ để tránh lỗi nếu để câu lệnh rỗng)\n",
    "\n",
    "# Toán tử 3 ngôi \n",
    "c = 12 if a > b else 13\n",
    "print(c) #13 "
   ]
  },
  {
   "cell_type": "code",
   "execution_count": 158,
   "id": "59a7a90f",
   "metadata": {},
   "outputs": [
    {
     "name": "stdout",
     "output_type": "stream",
     "text": [
      "0.010000000000000009\n",
      "0.009999999999999787\n",
      "d1 = 0.010000000000000009 d2 = 0.009999999999999787\n",
      "Same\n"
     ]
    }
   ],
   "source": [
    "# So sánh hai số thực trong python\n",
    "d1 = 1.11 - 1.10\n",
    "d2 = 2.11 - 2.10\n",
    "print(d1)\n",
    "print(d2)\n",
    "# d1 không bằng d2 do có sai số nên nếu ta so sánh if d1 == d2 sẽ bị sai do vậy phải làm như sau:\n",
    "print(\"d1 =\", d1 ,\"d2 =\", d2)\n",
    "dif = d1 - d2\n",
    "if dif < 0: dif = -dif #đưa chênh lệch về số dương\n",
    "if dif < 0.00000001:  #0.00000001 là ngưỡng sai số do người dùng đưa ra\n",
    "    print(\"Same\")\n",
    "else: \n",
    "    print(\"Different\") "
   ]
  },
  {
   "cell_type": "markdown",
   "id": "18f13f62",
   "metadata": {},
   "source": [
    "## Loops "
   ]
  },
  {
   "cell_type": "code",
   "execution_count": 19,
   "id": "ed964ebb",
   "metadata": {},
   "outputs": [
    {
     "name": "stdout",
     "output_type": "stream",
     "text": [
      "Nhap n:10\n",
      "100\n",
      "0\n",
      "1\n",
      "2\n",
      "3\n",
      "n=4\n"
     ]
    }
   ],
   "source": [
    "# while loop\n",
    "# Cú pháp:\n",
    "# while conditions:\n",
    "#     block   #do it when conditions is True\n",
    "\n",
    "# Có thể kết thúc vòng lặp bằng break hoặc đưa điều kiện về False, bỏ qua câu lệnh bằng continue \n",
    "\n",
    "# chương trình nhập số 1-10 nếu sai yêu cầu nhập lại, đúng thì xuất bình phương số đã nhập\n",
    "while 1:\n",
    "    n = int(input(\"Nhap n:\"))\n",
    "    if 1 <= n and n <= 10: break\n",
    "print(n**2)\n",
    "\n",
    "# Lệnh while else:\n",
    "# block trong else sẽ được thực hiện nếu vòng while kết thúc bình thường (không phải kết thúc bằng break)\n",
    "n = 0\n",
    "while n < 4:\n",
    "    print(n)\n",
    "    n += 1\n",
    "else:\n",
    "    print(\"n=4\")"
   ]
  },
  {
   "cell_type": "code",
   "execution_count": 29,
   "id": "72d6be4e",
   "metadata": {},
   "outputs": [
    {
     "name": "stdout",
     "output_type": "stream",
     "text": [
      "10 8 6 4 2 \n",
      "\n",
      "Nhap n:10\n",
      "30\n",
      "1,2,3,4,Out of item\n",
      "[1, 2, 3, 4]\n",
      "[3, 4]\n",
      "[0, 1, 2, 3, 4, 5]\n",
      "[[0, 0, 0, 0], [0, 0, 0, 0], [0, 0, 0, 0], [0, 0, 0, 0], [0, 0, 0, 0]]\n",
      "4\n",
      "[[5, 0, 0, 0], [0, 0, 0, 0], [0, 0, 0, 0], [0, 0, 0, 0], [0, 0, 0, 0]]\n",
      "<class 'int'>\n"
     ]
    }
   ],
   "source": [
    "# for loop\n",
    "# Hàm range(begin,end,step)\n",
    "# range(10) -> 0, 1, 2, 3, 4, 5, 6, 7, 8, 9\n",
    "# range(10, 1, -1) -> 10, 9, 8, 7, 6, 5, 4, 3, 2\n",
    "# range(2, 11, 2) -> 2, 4, 6, 8, 10\n",
    "\n",
    "for n in range(10, 1, -2):\n",
    "    print(n, end = ' ') # end dùng để định dạnh khi in, ở đây là các kí tự các nhau bằng khoảng trắng \n",
    "print(\"\\n\")\n",
    "# in ra tổng các số chẵn nhỏ hơn hoặc bằng n\n",
    "n = int(input(\"Nhap n:\"))\n",
    "s = 0\n",
    "for x in range(2,n+1,2):\n",
    "    s += x\n",
    "print(s)\n",
    "\n",
    "# Lệnh for else:\n",
    "# block trong else sẽ được thực hiện nếu vòng for kết thúc bình thường (không phải kết thúc bằng break)\n",
    "\n",
    "list_ = [1,2,3,4]\n",
    "for x in list_:\n",
    "    print(x,end=\",\")\n",
    "else: \n",
    "    print(\"Out of item\")\n",
    "    \n",
    "# list comprehension: newlist = [expression for item in iterable if condition == True], nếu không có phần if tức lấy mọi phần tử \n",
    "l = [1,2,3,4]\n",
    "l2 = [x for x in l]\n",
    "print(l2)\n",
    "l3 = [x for x in l if x > 2]\n",
    "print(l3)\n",
    "\n",
    "newlist = [x for x in range(6)]\n",
    "print(newlist)\n",
    "\n",
    "matrix = [[0]*4 for x in range(5)]\n",
    "print(matrix)\n",
    "print(len(matrix[0]))\n",
    "\n",
    "def func():\n",
    "    matrix[0][0] = 5\n",
    "\n",
    "func()\n",
    "print(matrix)\n",
    "print(type(matrix[0][1]))"
   ]
  },
  {
   "cell_type": "markdown",
   "id": "8c6c0c2c",
   "metadata": {},
   "source": [
    "## Function\n",
    "A function is a block of code which only runs when it is called"
   ]
  },
  {
   "cell_type": "code",
   "execution_count": 16,
   "id": "72ccce7c",
   "metadata": {},
   "outputs": [
    {
     "name": "stdout",
     "output_type": "stream",
     "text": [
      "Hello Python\n",
      "Long\n",
      "3\n",
      "A\n",
      "C\n",
      "apple\n",
      "banana\n",
      "cherry\n",
      "15\n",
      "5\n"
     ]
    }
   ],
   "source": [
    "# Cú pháp\n",
    "# def function_name(parameter list):\n",
    "#        block\n",
    "\n",
    "# def keyword to define a function\n",
    "def my_function():\n",
    "    print(\"Hello Python\")\n",
    "    \n",
    "my_function() #call function and print Hello Python\n",
    "\n",
    "# arguments \n",
    "def my_function2(name):\n",
    "    print(name)\n",
    "\n",
    "my_function2(\"Long\") #\"Long\" is argument (args) \n",
    "\n",
    "# parameters\n",
    "# name is parameter of my_function2 \n",
    "\n",
    "# Nếu không biết trước có bao nhiêu đối số (*args) được truyền vào hàm ta dùng *parameter: đối số truyền vào sẽ là tuple\n",
    "def func(*listt):\n",
    "    print(listt[2])\n",
    "    \n",
    "func(1,2,3,4) #3 \n",
    "\n",
    "# Truyền đối số kiểu keyword arguments (kwargs): thứ tự đối số không quan trọng vì tham số sẽ tự tìm tới key phù hợp\n",
    "def kwargs_func(key1, key2, key3):\n",
    "    print(key3)\n",
    "kwargs_func(key3 = \"A\", key2 = \"B\", key1 = \"C\") #A\n",
    "\n",
    "# Nếu không biết trước có bao nhiêu đối số kiểu keyword (**kwargs) được truyền vào hàm ta dùng **parameter\n",
    "def kwargs_func2(**key):\n",
    "    print(key[\"name1\"])\n",
    "\n",
    "kwargs_func2(name1 = \"C\", name2 = \"B\") #C\n",
    "\n",
    "# Passing a List as an Argument\n",
    "def foodfunc(food):\n",
    "  for x in food:\n",
    "      print(x)\n",
    "\n",
    "fruits = [\"apple\", \"banana\", \"cherry\"]\n",
    "\n",
    "foodfunc(fruits) #apple\n",
    "                 #banana\n",
    "                 #cherry\n",
    "        \n",
    "# return \n",
    "def my_function(x):\n",
    "  x = 3  \n",
    "  print(x * 5)\n",
    "  return None;\n",
    "x = 5\n",
    "my_function(x) #15\n",
    "print(x) #5\n",
    "\n",
    "# trong ví dụ trên thì khi vào hàm x = 3 tuy nhiên ra khỏi hàm x = 5 (tức hàm không làm thay đổi giá trị x)"
   ]
  },
  {
   "cell_type": "code",
   "execution_count": 20,
   "id": "f89b3d3f",
   "metadata": {},
   "outputs": [
    {
     "name": "stdout",
     "output_type": "stream",
     "text": [
      "5\n",
      "5\n",
      "10\n",
      "12\n"
     ]
    }
   ],
   "source": [
    "# Global variable, local variable \n",
    "# biến toàn cục nằm ngoài hàm có phạm vi toàn bộ trong và ngoài hàm \n",
    "# biến cục bộ chỉ có phạm vi hoạt động trong hàm không có ảnh hưởng tới bên ngoài\n",
    "\n",
    "g = 5 # global variable \n",
    "def my_func():\n",
    "    print(g)\n",
    "    \n",
    "my_func() #5\n",
    "\n",
    "x = 10 #global variable\n",
    "def my_func():\n",
    "    x = 5 #local variable\n",
    "    print(x) #print local variable\n",
    "    \n",
    "my_func() #5\n",
    "print(x) #10\n",
    "\n",
    "# global keyword cho ta tham chiếu tới biến toàn cục\n",
    "x = 5 #create a global variable \n",
    "\n",
    "def my_func():\n",
    "    global x #tham chiếu tới x ở trên\n",
    "    x += 7 #12\n",
    "\n",
    "my_func() \n",
    "print(x) #12\n",
    "\n",
    "# lỗi với biến cục bộ\n",
    "x = 5\n",
    "\n",
    "def my_func():\n",
    "    x = x + 7 #lỗi vì biến x này là biến cục bộ, chưa được khai báo trong hàm my_func()\n",
    "    \n",
    "my_func() #error"
   ]
  },
  {
   "cell_type": "code",
   "execution_count": 26,
   "id": "774bb564",
   "metadata": {},
   "outputs": [
    {
     "name": "stdout",
     "output_type": "stream",
     "text": [
      "15\n",
      "12\n"
     ]
    }
   ],
   "source": [
    "# lambda function: hàm ẩn danh \n",
    "# hàm lambda có thể chứa nhiều tham số nhưng chỉ chứa 1 biểu thức\n",
    "# cú pháp: lambda parameters: expression\n",
    "\n",
    "x = lambda a: a + 10\n",
    "print(x(5))\n",
    "\n",
    "def handle(f, x):\n",
    "    return f(x)\n",
    "\n",
    "kq = handle(lambda a: a + 5, 7)\n",
    "print(kq)"
   ]
  },
  {
   "cell_type": "markdown",
   "id": "bb7d4cfa",
   "metadata": {},
   "source": [
    "## Một số hàm thông dụng"
   ]
  },
  {
   "cell_type": "markdown",
   "id": "95a45f29",
   "metadata": {},
   "source": [
    "### math "
   ]
  },
  {
   "cell_type": "code",
   "execution_count": 18,
   "id": "c896e2db",
   "metadata": {},
   "outputs": [
    {
     "name": "stdout",
     "output_type": "stream",
     "text": [
      "5.0\n",
      "125.0\n",
      "1.3862943611198906\n",
      "2.0\n",
      "7.38905609893065\n",
      "2\n",
      "3\n",
      "2\n"
     ]
    }
   ],
   "source": [
    "import math \n",
    "\n",
    "# lấy căn bậc 2\n",
    "x = 25\n",
    "print(math.sqrt(x)) #5.0\n",
    "\n",
    "# hàm mũ \n",
    "print(math.pow(5, 3)) #125.0\n",
    "\n",
    "# hàm log (cơ số e)\n",
    "print(math.log(4)) #1.3862943611198906\n",
    "\n",
    "# hàm log (cơ số 10)\n",
    "print(math.log10(100)) #2.0\n",
    "\n",
    "# e mũ \n",
    "print(math.exp(2)) #7.38905609893065\n",
    "\n",
    "# giá trị tuyệt đối \n",
    "print(abs(-2)) #2\n",
    "\n",
    "# làm tròn lên \n",
    "print(math.ceil(2.1)) #3\n",
    "\n",
    "# làm tròn xuống \n",
    "print(math.floor(2.1)) #2"
   ]
  },
  {
   "cell_type": "code",
   "execution_count": 19,
   "id": "0d98e738",
   "metadata": {},
   "outputs": [
    {
     "name": "stdout",
     "output_type": "stream",
     "text": [
      "3.6666666666666665\n",
      "3.67\n"
     ]
    }
   ],
   "source": [
    "# hàm làm tròn round(số cần làm tròn, đơn vị làm tròn)\n",
    "\n",
    "a, b = 11, 3\n",
    "c = a/b\n",
    "print(c) #3.6666666666666665\n",
    "print(round(c,2)) #3.67 hàm round làm tròn số c 2 đơn vị "
   ]
  },
  {
   "cell_type": "markdown",
   "id": "15a1eeb3",
   "metadata": {},
   "source": [
    "### time"
   ]
  },
  {
   "cell_type": "code",
   "execution_count": 29,
   "id": "8c6e0aac",
   "metadata": {},
   "outputs": [
    {
     "name": "stdout",
     "output_type": "stream",
     "text": [
      "Enter your name\n",
      "long\n",
      "long it took you 1.965665340423584 second to respond\n",
      "Local time Mon Apr 19 10:51:04 2021\n",
      "This is printed immediately.\n",
      "This is printed after 2.4 seconds.\n"
     ]
    }
   ],
   "source": [
    "import time\n",
    "\n",
    "# time.time(): returns the number of seconds passed since epoch.\n",
    "print(\"Enter your name\")\n",
    "start = time.time()\n",
    "s = input()\n",
    "end = time.time()\n",
    "elapsed = end - start\n",
    "print(s, \"it took you\", elapsed, \"second to respond\")\n",
    "\n",
    "# time.ctime():  takes seconds passed since epoch as an argument returns a string representing local time.\n",
    "seconds = time.time()\n",
    "local_time = time.ctime(seconds)\n",
    "print(\"Local time\", local_time)\n",
    "\n",
    "# time.sleep(): (delays) execution of the current thread for the given number of seconds\n",
    "print(\"This is printed immediately.\")\n",
    "time.sleep(2.4)\n",
    "print(\"This is printed after 2.4 seconds.\")"
   ]
  },
  {
   "cell_type": "markdown",
   "id": "2942ecac",
   "metadata": {},
   "source": [
    "### random"
   ]
  },
  {
   "cell_type": "code",
   "execution_count": 1,
   "id": "51de8cff",
   "metadata": {},
   "outputs": [
    {
     "name": "stdout",
     "output_type": "stream",
     "text": [
      "701\n",
      "0.7834696105272249\n"
     ]
    }
   ],
   "source": [
    "import random\n",
    "# hàm randrange(start, end, step): trả về số bất kì x: start <= x < end\n",
    "x = random.randrange(111, 1000, 5)\n",
    "print(x)\n",
    "\n",
    "# hàm random(): trả về số thực bất kì x: 0 <= x < 1\n",
    "x = random.random()\n",
    "print(x)"
   ]
  },
  {
   "cell_type": "code",
   "execution_count": null,
   "id": "64413c4f",
   "metadata": {},
   "outputs": [],
   "source": [
    "# hàm exit(): thoát khỏi chương trình \n",
    "while True:\n",
    "    x = int(input(\"Nhập n\"))\n",
    "    if(x==0): exit() #thoát khỏi chương trình khi nhập 0"
   ]
  },
  {
   "cell_type": "code",
   "execution_count": 15,
   "id": "e82d4266",
   "metadata": {},
   "outputs": [
    {
     "name": "stdout",
     "output_type": "stream",
     "text": [
      "65\n",
      "Nhập x:10\n",
      "10\n"
     ]
    }
   ],
   "source": [
    "# hàm eval(): phân tích biểu thức được truyền vào và thực thi\n",
    "s = \"5+3*(9+11)\"\n",
    "x = eval(s)\n",
    "print(x)\n",
    "\n",
    "# nhập bằng eval()\n",
    "x = eval(input(\"Nhập x:\"))\n",
    "print(x)"
   ]
  },
  {
   "cell_type": "code",
   "execution_count": null,
   "id": "05ccf5d5",
   "metadata": {},
   "outputs": [],
   "source": []
  }
 ],
 "metadata": {
  "kernelspec": {
   "display_name": "Python 3",
   "language": "python",
   "name": "python3"
  },
  "language_info": {
   "codemirror_mode": {
    "name": "ipython",
    "version": 3
   },
   "file_extension": ".py",
   "mimetype": "text/x-python",
   "name": "python",
   "nbconvert_exporter": "python",
   "pygments_lexer": "ipython3",
   "version": "3.9.4"
  }
 },
 "nbformat": 4,
 "nbformat_minor": 5
}
